{
 "cells": [
  {
   "cell_type": "code",
   "execution_count": 25,
   "metadata": {},
   "outputs": [],
   "source": [
    "from kaggle_environments import make"
   ]
  },
  {
   "cell_type": "code",
   "execution_count": 26,
   "metadata": {},
   "outputs": [],
   "source": [
    "import re\n",
    "import numpy as np"
   ]
  },
  {
   "cell_type": "code",
   "execution_count": 27,
   "metadata": {},
   "outputs": [],
   "source": [
    "env = make(\"rps\", configuration={\"episodeSteps\": 1000})"
   ]
  },
  {
   "cell_type": "code",
   "execution_count": 31,
   "metadata": {},
   "outputs": [],
   "source": [
    "list_names = [\n",
    "    \"nash_equilibrium.py\",\n",
    "    \"multi_armed_bandit.py\",\n",
    "    \"memory_patterns.py\", \n",
    "    \"transition_matrix.py\",\n",
    "    \"decision_tree_classifier.py\",\n",
    "    \"reactionary.py\", \n",
    "    \"counter_reactionary.py\", \n",
    "    \"statistical.py\",\n",
    "    \"markov.py\"\n",
    "]"
   ]
  },
  {
   "cell_type": "code",
   "execution_count": 32,
   "metadata": {},
   "outputs": [],
   "source": [
    "wins = {\n",
    "    \"nash_equilibrium.py\" : 0,\n",
    "    \"reactionary.py\" : 0,\n",
    "    \"counter_reactionary.py\" : 0, \n",
    "    \"statistical.py\" : 0,\n",
    "    \"multi_armed_bandit.py\" : 0,\n",
    "    \"markov.py\" : 0, \n",
    "    \"memory_patterns.py\" : 0, \n",
    "    \"transition_matrix.py\" : 0,\n",
    "    \"decision_tree_classifier.py\" : 0\n",
    "}\n",
    "ties = {\n",
    "    \"nash_equilibrium.py\" : 0,\n",
    "    \"reactionary.py\" : 0,\n",
    "    \"counter_reactionary.py\" : 0, \n",
    "    \"statistical.py\" : 0,\n",
    "    \"multi_armed_bandit.py\" : 0,\n",
    "    \"markov.py\" : 0, \n",
    "    \"memory_patterns.py\" : 0, \n",
    "    \"transition_matrix.py\" : 0,\n",
    "    \"decision_tree_classifier.py\" : 0\n",
    "}\n",
    "losses = {\n",
    "    \"nash_equilibrium.py\" : 0,\n",
    "    \"reactionary.py\" : 0,\n",
    "    \"counter_reactionary.py\" : 0, \n",
    "    \"statistical.py\" : 0,\n",
    "    \"multi_armed_bandit.py\" : 0,\n",
    "    \"markov.py\" : 0, \n",
    "    \"memory_patterns.py\" : 0, \n",
    "    \"transition_matrix.py\" : 0,\n",
    "    \"decision_tree_classifier.py\" : 0\n",
    "}"
   ]
  },
  {
   "cell_type": "code",
   "execution_count": null,
   "metadata": {},
   "outputs": [
    {
     "name": "stdout",
     "output_type": "stream",
     "text": [
      "Agent:nash_equilibrium.py            Hand Advantage:-29 Wins:  0 Ties:  0 Losses:  1 Win Percentage 0.000000\n"
     ]
    }
   ],
   "source": [
    "for agent in list_names:\n",
    "    wins[agent] = 0\n",
    "    ties[agent] = 0\n",
    "    losses[agent] = 0\n",
    "    \n",
    "for i in range(20):\n",
    "    for agent in list_names:\n",
    "        env.reset()\n",
    "        game = env.run(['vrf2.py', agent])\n",
    "        reward = re.findall(\"reward':(.*?),\", str(game))[-1]\n",
    "        reward = reward.strip()\n",
    "\n",
    "        if reward != 'None':\n",
    "            reward = -1*int(float(reward))\n",
    "            if reward > 0:\n",
    "                wins[agent] += 1\n",
    "            if reward == 0:\n",
    "                ties[agent] +=1\n",
    "            if reward < 0:\n",
    "                losses[agent] +=1\n",
    "        else:\n",
    "            reward = 0\n",
    "\n",
    "        print('Agent:{:30s} Hand Advantage:{:3d} Wins:{:3d} Ties:{:3d} Losses:{:3d} Win Percentage {:3f}'.format(agent,reward,wins[agent],ties[agent],losses[agent],wins[agent]/(wins[agent]+losses[agent]+ties[agent])))        \n"
   ]
  },
  {
   "cell_type": "code",
   "execution_count": null,
   "metadata": {},
   "outputs": [],
   "source": []
  }
 ],
 "metadata": {
  "kernelspec": {
   "display_name": "Python 3",
   "language": "python",
   "name": "python3"
  },
  "language_info": {
   "codemirror_mode": {
    "name": "ipython",
    "version": 3
   },
   "file_extension": ".py",
   "mimetype": "text/x-python",
   "name": "python",
   "nbconvert_exporter": "python",
   "pygments_lexer": "ipython3",
   "version": "3.8.5"
  }
 },
 "nbformat": 4,
 "nbformat_minor": 4
}
